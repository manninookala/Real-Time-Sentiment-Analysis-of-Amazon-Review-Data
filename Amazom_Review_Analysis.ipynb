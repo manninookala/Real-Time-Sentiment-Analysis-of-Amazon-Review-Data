{
  "cells": [
    {
      "cell_type": "code",
      "execution_count": 4,
      "metadata": {
        "colab": {
          "base_uri": "https://localhost:8080/"
        },
        "id": "Rf7JLdGBIQ3Y",
        "outputId": "5b0d9d36-e8d4-4c52-e607-1a2c7e38d3ce"
      },
      "outputs": [
        {
          "name": "stdout",
          "output_type": "stream",
          "text": [
            "Requirement already satisfied: requests in c:\\users\\dell\\appdata\\local\\programs\\python\\python312\\lib\\site-packages (2.31.0)\n",
            "Requirement already satisfied: pandas in c:\\users\\dell\\appdata\\local\\programs\\python\\python312\\lib\\site-packages (2.2.2)\n",
            "Requirement already satisfied: charset-normalizer<4,>=2 in c:\\users\\dell\\appdata\\local\\programs\\python\\python312\\lib\\site-packages (from requests) (3.3.2)\n",
            "Requirement already satisfied: idna<4,>=2.5 in c:\\users\\dell\\appdata\\local\\programs\\python\\python312\\lib\\site-packages (from requests) (3.7)\n",
            "Requirement already satisfied: urllib3<3,>=1.21.1 in c:\\users\\dell\\appdata\\local\\programs\\python\\python312\\lib\\site-packages (from requests) (2.2.1)\n",
            "Requirement already satisfied: certifi>=2017.4.17 in c:\\users\\dell\\appdata\\local\\programs\\python\\python312\\lib\\site-packages (from requests) (2024.2.2)\n",
            "Requirement already satisfied: numpy>=1.26.0 in c:\\users\\dell\\appdata\\local\\programs\\python\\python312\\lib\\site-packages (from pandas) (1.26.4)\n",
            "Requirement already satisfied: python-dateutil>=2.8.2 in c:\\users\\dell\\appdata\\local\\programs\\python\\python312\\lib\\site-packages (from pandas) (2.9.0.post0)\n",
            "Requirement already satisfied: pytz>=2020.1 in c:\\users\\dell\\appdata\\local\\programs\\python\\python312\\lib\\site-packages (from pandas) (2024.1)\n",
            "Requirement already satisfied: tzdata>=2022.7 in c:\\users\\dell\\appdata\\local\\programs\\python\\python312\\lib\\site-packages (from pandas) (2024.1)\n",
            "Requirement already satisfied: six>=1.5 in c:\\users\\dell\\appdata\\local\\programs\\python\\python312\\lib\\site-packages (from python-dateutil>=2.8.2->pandas) (1.16.0)\n"
          ]
        }
      ],
      "source": [
        "!pip install requests pandas"
      ]
    },
    {
      "cell_type": "code",
      "execution_count": 5,
      "metadata": {
        "colab": {
          "base_uri": "https://localhost:8080/"
        },
        "id": "4sXaD_j-Iirq",
        "outputId": "5c80c89c-2fdc-43b2-c256-79947d5c13b4"
      },
      "outputs": [
        {
          "name": "stdout",
          "output_type": "stream",
          "text": [
            "Requirement already satisfied: requests in c:\\users\\dell\\appdata\\local\\programs\\python\\python312\\lib\\site-packages (2.31.0)\n",
            "Requirement already satisfied: charset-normalizer<4,>=2 in c:\\users\\dell\\appdata\\local\\programs\\python\\python312\\lib\\site-packages (from requests) (3.3.2)\n",
            "Requirement already satisfied: idna<4,>=2.5 in c:\\users\\dell\\appdata\\local\\programs\\python\\python312\\lib\\site-packages (from requests) (3.7)\n",
            "Requirement already satisfied: urllib3<3,>=1.21.1 in c:\\users\\dell\\appdata\\local\\programs\\python\\python312\\lib\\site-packages (from requests) (2.2.1)\n",
            "Requirement already satisfied: certifi>=2017.4.17 in c:\\users\\dell\\appdata\\local\\programs\\python\\python312\\lib\\site-packages (from requests) (2024.2.2)\n"
          ]
        }
      ],
      "source": [
        "!pip install requests"
      ]
    },
    {
      "cell_type": "code",
      "execution_count": 6,
      "metadata": {
        "id": "HF-54dwaIfcp"
      },
      "outputs": [],
      "source": [
        "import pandas as pd\n",
        "import requests"
      ]
    },
    {
      "cell_type": "code",
      "execution_count": 7,
      "metadata": {
        "colab": {
          "base_uri": "https://localhost:8080/"
        },
        "id": "ADDasa9EInl-",
        "outputId": "23938bdf-218c-42df-8a80-83c7a6ef198c"
      },
      "outputs": [
        {
          "name": "stdout",
          "output_type": "stream",
          "text": [
            "         review_id                                       review_title  \\\n",
            "0    RK768BU3IYLYD  Apple iPhone 11 Review: A Reliable Backup That...   \n",
            "1   R3U7NML74KC33D  FROM AOP3D: **A Stellar Companion: Apple iPhon...   \n",
            "2   R22OJ5NSTPXHV2                         iphone 11 is pretty great!   \n",
            "3   R397MZVJXW7B2Q       Phone is great! Shipping & setup frustrating   \n",
            "4   R3H7ZHICVAL8O2                                        Great Phone   \n",
            "..             ...                                                ...   \n",
            "95  R1QTITOLM7K2GE                                         Good phone   \n",
            "96   RYT1FJKH6QP4D                                          it worked   \n",
            "97  R2PRABYMTUWRLU                              Better than discribed   \n",
            "98  R1P994E4J5FE5G                                     Good condition   \n",
            "99  R2L1N36ZZ2LEN8          Very pleased with this iPhone 11 purchase   \n",
            "\n",
            "                                       review_comment review_star_rating  \\\n",
            "0   Update:  I'm back with an update on our journe...                  5   \n",
            "1   ⭐️⭐️⭐️⭐️⭐️\\n\\nIf you're in the market for a sm...                  5   \n",
            "2   I know from experience what the phones are lik...                  5   \n",
            "3   The renewed iPhone 11 itself is in great condi...                  4   \n",
            "4   Just got the very well packaged iPhone in the ...                  5   \n",
            "..                                                ...                ...   \n",
            "95                                         good phone                  5   \n",
            "96                                         It worked.                  5   \n",
            "97  Nice Phone. We had purchased from another sour...                  5   \n",
            "98            t's a good phone, battery live is great                  5   \n",
            "99  The condition upon delivery is excellent. No s...                  5   \n",
            "\n",
            "                                          review_link  \\\n",
            "0   https://www.amazon.com/gp/customer-reviews/RK7...   \n",
            "1   https://www.amazon.com/gp/customer-reviews/R3U...   \n",
            "2   https://www.amazon.com/gp/customer-reviews/R22...   \n",
            "3   https://www.amazon.com/gp/customer-reviews/R39...   \n",
            "4   https://www.amazon.com/gp/customer-reviews/R3H...   \n",
            "..                                                ...   \n",
            "95  https://www.amazon.com/gp/customer-reviews/R1Q...   \n",
            "96  https://www.amazon.com/gp/customer-reviews/RYT...   \n",
            "97  https://www.amazon.com/gp/customer-reviews/R2P...   \n",
            "98  https://www.amazon.com/gp/customer-reviews/R1P...   \n",
            "99  https://www.amazon.com/gp/customer-reviews/R2L...   \n",
            "\n",
            "                            review_author  \\\n",
            "0                                    Ms D   \n",
            "1   AOP3D 5 WHISTLESTOP MALL  ROCKPORT MA   \n",
            "2                               S. Fiacco   \n",
            "3                               TreeSaw R   \n",
            "4                                Julian Z   \n",
            "..                                    ...   \n",
            "95                         Trevor Parsons   \n",
            "96                         Michael Turner   \n",
            "97                              MICHAEL D   \n",
            "98                    MS/Hortence Amelisi   \n",
            "99                            Diana Smith   \n",
            "\n",
            "                                 review_author_avatar  \\\n",
            "0   https://images-na.ssl-images-amazon.com/images...   \n",
            "1   https://images-na.ssl-images-amazon.com/images...   \n",
            "2   https://images-na.ssl-images-amazon.com/images...   \n",
            "3   https://images-na.ssl-images-amazon.com/images...   \n",
            "4   https://images-na.ssl-images-amazon.com/images...   \n",
            "..                                                ...   \n",
            "95  https://images-na.ssl-images-amazon.com/images...   \n",
            "96  https://images-na.ssl-images-amazon.com/images...   \n",
            "97  https://images-na.ssl-images-amazon.com/images...   \n",
            "98  https://images-na.ssl-images-amazon.com/images...   \n",
            "99  https://images-na.ssl-images-amazon.com/images...   \n",
            "\n",
            "                                        review_images review_video  \\\n",
            "0                                                  []         None   \n",
            "1                                                  []         None   \n",
            "2                                                  []         None   \n",
            "3                                                  []         None   \n",
            "4                                                  []         None   \n",
            "..                                                ...          ...   \n",
            "95                                                 []         None   \n",
            "96                                                 []         None   \n",
            "97                                                 []         None   \n",
            "98  [https://m.media-amazon.com/images/I/61wP0tYih...         None   \n",
            "99                                                 []         None   \n",
            "\n",
            "                                          review_date  is_verified_purchase  \\\n",
            "0   Reviewed in the United States on February 20, ...                  True   \n",
            "1     Reviewed in the United States on April 14, 2024                  True   \n",
            "2     Reviewed in the United States on March 26, 2024                  True   \n",
            "3   Reviewed in the United States on October 18, 2023                  True   \n",
            "4       Reviewed in the United States on May 25, 2024                  True   \n",
            "..                                                ...                   ...   \n",
            "95      Reviewed in the United States on May 21, 2024                  True   \n",
            "96      Reviewed in the United States on May 27, 2024                  True   \n",
            "97    Reviewed in the United States on April 29, 2024                  True   \n",
            "98       Reviewed in the United States on May 7, 2024                  True   \n",
            "99    Reviewed in the United States on April 10, 2024                  True   \n",
            "\n",
            "          helpful_vote_statement reviewed_product_asin  \n",
            "0   66 people found this helpful            B07ZPKN6YR  \n",
            "1   20 people found this helpful            B07ZPKN6YR  \n",
            "2   24 people found this helpful            B07ZPKBL9V  \n",
            "3   52 people found this helpful            B084GXMHBQ  \n",
            "4                            NaN            B081Y45G46  \n",
            "..                           ...                   ...  \n",
            "95                           NaN            B07ZPL6Y2D  \n",
            "96                           NaN            B07ZPKN6YR  \n",
            "97                           NaN            B07ZPKBL9V  \n",
            "98                           NaN            B07ZPKN6YR  \n",
            "99                           NaN            B07ZPK1XV9  \n",
            "\n",
            "[100 rows x 13 columns]\n"
          ]
        }
      ],
      "source": [
        "import requests\n",
        "import pandas as pd\n",
        "\n",
        "url = \"https://real-time-amazon-data.p.rapidapi.com/product-reviews\"\n",
        "querystring = {\n",
        "    \"asin\": \"B07ZPKN6YR\",\n",
        "    \"country\": \"US\",\n",
        "    \"sort_by\": \"TOP_REVIEWS\",\n",
        "    \"star_rating\": \"ALL\",\n",
        "    \"verified_purchases_only\": \"false\",\n",
        "    \"images_or_videos_only\": \"false\",\n",
        "    \"current_format_only\": \"false\",\n",
        "    \"page\": \"1\"\n",
        "}\n",
        "\n",
        "headers = {\n",
        "    \"x-rapidapi-key\": \"158c8ea10amshf48ee0fef976a76p103d3djsnc9a5f1c5c154\",\n",
        "    \"x-rapidapi-host\": \"real-time-amazon-data.p.rapidapi.com\"\n",
        "}\n",
        "\n",
        "# Collect all reviews\n",
        "all_reviews = []\n",
        "\n",
        "for page in range(1, 11):\n",
        "    querystring['page'] = str(page)\n",
        "    response = requests.get(url, headers=headers, params=querystring)\n",
        "    if response.status_code == 200:\n",
        "        data = response.json()\n",
        "        if 'data' in data and 'reviews' in data['data']:\n",
        "            reviews = data['data']['reviews']\n",
        "            all_reviews.extend(reviews)\n",
        "        else:\n",
        "            print(f\"Page {page} does not contain 'data' or 'reviews' key. Response: {data}\")\n",
        "    else:\n",
        "        print(f\"Failed to retrieve page {page}. Status code: {response.status_code}. Response: {response.text}\")\n",
        "\n",
        "# Convert to DataFrame\n",
        "if all_reviews:\n",
        "    df = pd.DataFrame(all_reviews)\n",
        "    print(df)\n",
        "else:\n",
        "    print(\"No reviews found.\")\n"
      ]
    },
    {
      "cell_type": "code",
      "execution_count": 8,
      "metadata": {
        "colab": {
          "base_uri": "https://localhost:8080/",
          "height": 573
        },
        "id": "GGpNuUpwIuYw",
        "outputId": "31c6f706-5503-4976-e9df-15563beca210"
      },
      "outputs": [
        {
          "data": {
            "text/html": [
              "<div>\n",
              "<style scoped>\n",
              "    .dataframe tbody tr th:only-of-type {\n",
              "        vertical-align: middle;\n",
              "    }\n",
              "\n",
              "    .dataframe tbody tr th {\n",
              "        vertical-align: top;\n",
              "    }\n",
              "\n",
              "    .dataframe thead th {\n",
              "        text-align: right;\n",
              "    }\n",
              "</style>\n",
              "<table border=\"1\" class=\"dataframe\">\n",
              "  <thead>\n",
              "    <tr style=\"text-align: right;\">\n",
              "      <th></th>\n",
              "      <th>review_id</th>\n",
              "      <th>review_title</th>\n",
              "      <th>review_comment</th>\n",
              "      <th>review_star_rating</th>\n",
              "      <th>review_link</th>\n",
              "      <th>review_author</th>\n",
              "      <th>review_author_avatar</th>\n",
              "      <th>review_images</th>\n",
              "      <th>review_video</th>\n",
              "      <th>review_date</th>\n",
              "      <th>is_verified_purchase</th>\n",
              "      <th>helpful_vote_statement</th>\n",
              "      <th>reviewed_product_asin</th>\n",
              "    </tr>\n",
              "  </thead>\n",
              "  <tbody>\n",
              "    <tr>\n",
              "      <th>0</th>\n",
              "      <td>RK768BU3IYLYD</td>\n",
              "      <td>Apple iPhone 11 Review: A Reliable Backup That...</td>\n",
              "      <td>Update:  I'm back with an update on our journe...</td>\n",
              "      <td>5</td>\n",
              "      <td>https://www.amazon.com/gp/customer-reviews/RK7...</td>\n",
              "      <td>Ms D</td>\n",
              "      <td>https://images-na.ssl-images-amazon.com/images...</td>\n",
              "      <td>[]</td>\n",
              "      <td>None</td>\n",
              "      <td>Reviewed in the United States on February 20, ...</td>\n",
              "      <td>True</td>\n",
              "      <td>66 people found this helpful</td>\n",
              "      <td>B07ZPKN6YR</td>\n",
              "    </tr>\n",
              "    <tr>\n",
              "      <th>1</th>\n",
              "      <td>R3U7NML74KC33D</td>\n",
              "      <td>FROM AOP3D: **A Stellar Companion: Apple iPhon...</td>\n",
              "      <td>⭐️⭐️⭐️⭐️⭐️\\n\\nIf you're in the market for a sm...</td>\n",
              "      <td>5</td>\n",
              "      <td>https://www.amazon.com/gp/customer-reviews/R3U...</td>\n",
              "      <td>AOP3D 5 WHISTLESTOP MALL  ROCKPORT MA</td>\n",
              "      <td>https://images-na.ssl-images-amazon.com/images...</td>\n",
              "      <td>[]</td>\n",
              "      <td>None</td>\n",
              "      <td>Reviewed in the United States on April 14, 2024</td>\n",
              "      <td>True</td>\n",
              "      <td>20 people found this helpful</td>\n",
              "      <td>B07ZPKN6YR</td>\n",
              "    </tr>\n",
              "    <tr>\n",
              "      <th>2</th>\n",
              "      <td>R22OJ5NSTPXHV2</td>\n",
              "      <td>iphone 11 is pretty great!</td>\n",
              "      <td>I know from experience what the phones are lik...</td>\n",
              "      <td>5</td>\n",
              "      <td>https://www.amazon.com/gp/customer-reviews/R22...</td>\n",
              "      <td>S. Fiacco</td>\n",
              "      <td>https://images-na.ssl-images-amazon.com/images...</td>\n",
              "      <td>[]</td>\n",
              "      <td>None</td>\n",
              "      <td>Reviewed in the United States on March 26, 2024</td>\n",
              "      <td>True</td>\n",
              "      <td>24 people found this helpful</td>\n",
              "      <td>B07ZPKBL9V</td>\n",
              "    </tr>\n",
              "    <tr>\n",
              "      <th>3</th>\n",
              "      <td>R397MZVJXW7B2Q</td>\n",
              "      <td>Phone is great! Shipping &amp; setup frustrating</td>\n",
              "      <td>The renewed iPhone 11 itself is in great condi...</td>\n",
              "      <td>4</td>\n",
              "      <td>https://www.amazon.com/gp/customer-reviews/R39...</td>\n",
              "      <td>TreeSaw R</td>\n",
              "      <td>https://images-na.ssl-images-amazon.com/images...</td>\n",
              "      <td>[]</td>\n",
              "      <td>None</td>\n",
              "      <td>Reviewed in the United States on October 18, 2023</td>\n",
              "      <td>True</td>\n",
              "      <td>52 people found this helpful</td>\n",
              "      <td>B084GXMHBQ</td>\n",
              "    </tr>\n",
              "    <tr>\n",
              "      <th>4</th>\n",
              "      <td>R3H7ZHICVAL8O2</td>\n",
              "      <td>Great Phone</td>\n",
              "      <td>Just got the very well packaged iPhone in the ...</td>\n",
              "      <td>5</td>\n",
              "      <td>https://www.amazon.com/gp/customer-reviews/R3H...</td>\n",
              "      <td>Julian Z</td>\n",
              "      <td>https://images-na.ssl-images-amazon.com/images...</td>\n",
              "      <td>[]</td>\n",
              "      <td>None</td>\n",
              "      <td>Reviewed in the United States on May 25, 2024</td>\n",
              "      <td>True</td>\n",
              "      <td>NaN</td>\n",
              "      <td>B081Y45G46</td>\n",
              "    </tr>\n",
              "  </tbody>\n",
              "</table>\n",
              "</div>"
            ],
            "text/plain": [
              "        review_id                                       review_title  \\\n",
              "0   RK768BU3IYLYD  Apple iPhone 11 Review: A Reliable Backup That...   \n",
              "1  R3U7NML74KC33D  FROM AOP3D: **A Stellar Companion: Apple iPhon...   \n",
              "2  R22OJ5NSTPXHV2                         iphone 11 is pretty great!   \n",
              "3  R397MZVJXW7B2Q       Phone is great! Shipping & setup frustrating   \n",
              "4  R3H7ZHICVAL8O2                                        Great Phone   \n",
              "\n",
              "                                      review_comment review_star_rating  \\\n",
              "0  Update:  I'm back with an update on our journe...                  5   \n",
              "1  ⭐️⭐️⭐️⭐️⭐️\\n\\nIf you're in the market for a sm...                  5   \n",
              "2  I know from experience what the phones are lik...                  5   \n",
              "3  The renewed iPhone 11 itself is in great condi...                  4   \n",
              "4  Just got the very well packaged iPhone in the ...                  5   \n",
              "\n",
              "                                         review_link  \\\n",
              "0  https://www.amazon.com/gp/customer-reviews/RK7...   \n",
              "1  https://www.amazon.com/gp/customer-reviews/R3U...   \n",
              "2  https://www.amazon.com/gp/customer-reviews/R22...   \n",
              "3  https://www.amazon.com/gp/customer-reviews/R39...   \n",
              "4  https://www.amazon.com/gp/customer-reviews/R3H...   \n",
              "\n",
              "                           review_author  \\\n",
              "0                                   Ms D   \n",
              "1  AOP3D 5 WHISTLESTOP MALL  ROCKPORT MA   \n",
              "2                              S. Fiacco   \n",
              "3                              TreeSaw R   \n",
              "4                               Julian Z   \n",
              "\n",
              "                                review_author_avatar review_images  \\\n",
              "0  https://images-na.ssl-images-amazon.com/images...            []   \n",
              "1  https://images-na.ssl-images-amazon.com/images...            []   \n",
              "2  https://images-na.ssl-images-amazon.com/images...            []   \n",
              "3  https://images-na.ssl-images-amazon.com/images...            []   \n",
              "4  https://images-na.ssl-images-amazon.com/images...            []   \n",
              "\n",
              "  review_video                                        review_date  \\\n",
              "0         None  Reviewed in the United States on February 20, ...   \n",
              "1         None    Reviewed in the United States on April 14, 2024   \n",
              "2         None    Reviewed in the United States on March 26, 2024   \n",
              "3         None  Reviewed in the United States on October 18, 2023   \n",
              "4         None      Reviewed in the United States on May 25, 2024   \n",
              "\n",
              "   is_verified_purchase        helpful_vote_statement reviewed_product_asin  \n",
              "0                  True  66 people found this helpful            B07ZPKN6YR  \n",
              "1                  True  20 people found this helpful            B07ZPKN6YR  \n",
              "2                  True  24 people found this helpful            B07ZPKBL9V  \n",
              "3                  True  52 people found this helpful            B084GXMHBQ  \n",
              "4                  True                           NaN            B081Y45G46  "
            ]
          },
          "execution_count": 8,
          "metadata": {},
          "output_type": "execute_result"
        }
      ],
      "source": [
        "df.head()"
      ]
    },
    {
      "cell_type": "code",
      "execution_count": 9,
      "metadata": {
        "colab": {
          "base_uri": "https://localhost:8080/"
        },
        "id": "JZ_JCV1LI3Y1",
        "outputId": "595d26ba-bba9-4304-ffcc-160596e58d58"
      },
      "outputs": [
        {
          "name": "stdout",
          "output_type": "stream",
          "text": [
            "<class 'pandas.core.frame.DataFrame'>\n",
            "RangeIndex: 100 entries, 0 to 99\n",
            "Data columns (total 13 columns):\n",
            " #   Column                  Non-Null Count  Dtype \n",
            "---  ------                  --------------  ----- \n",
            " 0   review_id               100 non-null    object\n",
            " 1   review_title            100 non-null    object\n",
            " 2   review_comment          100 non-null    object\n",
            " 3   review_star_rating      100 non-null    object\n",
            " 4   review_link             100 non-null    object\n",
            " 5   review_author           100 non-null    object\n",
            " 6   review_author_avatar    100 non-null    object\n",
            " 7   review_images           100 non-null    object\n",
            " 8   review_video            3 non-null      object\n",
            " 9   review_date             100 non-null    object\n",
            " 10  is_verified_purchase    100 non-null    bool  \n",
            " 11  helpful_vote_statement  29 non-null     object\n",
            " 12  reviewed_product_asin   100 non-null    object\n",
            "dtypes: bool(1), object(12)\n",
            "memory usage: 9.6+ KB\n"
          ]
        }
      ],
      "source": [
        "df.info()\n",
        "\n"
      ]
    },
    {
      "cell_type": "code",
      "execution_count": 10,
      "metadata": {
        "colab": {
          "base_uri": "https://localhost:8080/"
        },
        "id": "ROJKnI7GI5kI",
        "outputId": "984a065c-e88d-4943-9677-2c7da0e2a426"
      },
      "outputs": [
        {
          "data": {
            "text/plain": [
              "Index(['review_id', 'review_title', 'review_comment', 'review_star_rating',\n",
              "       'review_link', 'review_author', 'review_author_avatar', 'review_images',\n",
              "       'review_video', 'review_date', 'is_verified_purchase',\n",
              "       'helpful_vote_statement', 'reviewed_product_asin'],\n",
              "      dtype='object')"
            ]
          },
          "execution_count": 10,
          "metadata": {},
          "output_type": "execute_result"
        }
      ],
      "source": [
        "df.columns"
      ]
    },
    {
      "cell_type": "code",
      "execution_count": 11,
      "metadata": {
        "colab": {
          "base_uri": "https://localhost:8080/",
          "height": 206
        },
        "id": "vh9bvMfSI714",
        "outputId": "fb856054-10a7-478c-8f04-12483fb3ba22"
      },
      "outputs": [
        {
          "data": {
            "text/html": [
              "<div>\n",
              "<style scoped>\n",
              "    .dataframe tbody tr th:only-of-type {\n",
              "        vertical-align: middle;\n",
              "    }\n",
              "\n",
              "    .dataframe tbody tr th {\n",
              "        vertical-align: top;\n",
              "    }\n",
              "\n",
              "    .dataframe thead th {\n",
              "        text-align: right;\n",
              "    }\n",
              "</style>\n",
              "<table border=\"1\" class=\"dataframe\">\n",
              "  <thead>\n",
              "    <tr style=\"text-align: right;\">\n",
              "      <th></th>\n",
              "      <th>review_title</th>\n",
              "      <th>review_comment</th>\n",
              "      <th>review_star_rating</th>\n",
              "    </tr>\n",
              "  </thead>\n",
              "  <tbody>\n",
              "    <tr>\n",
              "      <th>0</th>\n",
              "      <td>Apple iPhone 11 Review: A Reliable Backup That...</td>\n",
              "      <td>Update:  I'm back with an update on our journe...</td>\n",
              "      <td>5</td>\n",
              "    </tr>\n",
              "    <tr>\n",
              "      <th>1</th>\n",
              "      <td>FROM AOP3D: **A Stellar Companion: Apple iPhon...</td>\n",
              "      <td>⭐️⭐️⭐️⭐️⭐️\\n\\nIf you're in the market for a sm...</td>\n",
              "      <td>5</td>\n",
              "    </tr>\n",
              "    <tr>\n",
              "      <th>2</th>\n",
              "      <td>iphone 11 is pretty great!</td>\n",
              "      <td>I know from experience what the phones are lik...</td>\n",
              "      <td>5</td>\n",
              "    </tr>\n",
              "    <tr>\n",
              "      <th>3</th>\n",
              "      <td>Phone is great! Shipping &amp; setup frustrating</td>\n",
              "      <td>The renewed iPhone 11 itself is in great condi...</td>\n",
              "      <td>4</td>\n",
              "    </tr>\n",
              "    <tr>\n",
              "      <th>4</th>\n",
              "      <td>Great Phone</td>\n",
              "      <td>Just got the very well packaged iPhone in the ...</td>\n",
              "      <td>5</td>\n",
              "    </tr>\n",
              "  </tbody>\n",
              "</table>\n",
              "</div>"
            ],
            "text/plain": [
              "                                        review_title  \\\n",
              "0  Apple iPhone 11 Review: A Reliable Backup That...   \n",
              "1  FROM AOP3D: **A Stellar Companion: Apple iPhon...   \n",
              "2                         iphone 11 is pretty great!   \n",
              "3       Phone is great! Shipping & setup frustrating   \n",
              "4                                        Great Phone   \n",
              "\n",
              "                                      review_comment review_star_rating  \n",
              "0  Update:  I'm back with an update on our journe...                  5  \n",
              "1  ⭐️⭐️⭐️⭐️⭐️\\n\\nIf you're in the market for a sm...                  5  \n",
              "2  I know from experience what the phones are lik...                  5  \n",
              "3  The renewed iPhone 11 itself is in great condi...                  4  \n",
              "4  Just got the very well packaged iPhone in the ...                  5  "
            ]
          },
          "execution_count": 11,
          "metadata": {},
          "output_type": "execute_result"
        }
      ],
      "source": [
        "df_final = df[['review_title', 'review_comment', 'review_star_rating']]\n",
        "df_final.head()"
      ]
    },
    {
      "cell_type": "code",
      "execution_count": 12,
      "metadata": {
        "colab": {
          "base_uri": "https://localhost:8080/"
        },
        "id": "TBBBBY_HI95R",
        "outputId": "8acbf82b-b709-46eb-cb6f-458faae3cfca"
      },
      "outputs": [
        {
          "data": {
            "text/plain": [
              "(100, 3)"
            ]
          },
          "execution_count": 12,
          "metadata": {},
          "output_type": "execute_result"
        }
      ],
      "source": [
        "df_final.shape"
      ]
    },
    {
      "cell_type": "code",
      "execution_count": 61,
      "metadata": {},
      "outputs": [
        {
          "data": {
            "text/plain": [
              "review_star_rating\n",
              "5    54\n",
              "4    44\n",
              "3     2\n",
              "Name: count, dtype: int64"
            ]
          },
          "execution_count": 61,
          "metadata": {},
          "output_type": "execute_result"
        }
      ],
      "source": [
        "df_final['review_star_rating'].value_counts()"
      ]
    },
    {
      "cell_type": "code",
      "execution_count": 60,
      "metadata": {},
      "outputs": [
        {
          "data": {
            "text/plain": [
              "3"
            ]
          },
          "execution_count": 60,
          "metadata": {},
          "output_type": "execute_result"
        }
      ],
      "source": [
        "df_final['review_star_rating'].nunique()"
      ]
    },
    {
      "cell_type": "code",
      "execution_count": 13,
      "metadata": {
        "colab": {
          "base_uri": "https://localhost:8080/"
        },
        "id": "YQuUd0CaJAh6",
        "outputId": "9381db7d-4c17-40fd-c61c-99fa2473c700"
      },
      "outputs": [
        {
          "name": "stdout",
          "output_type": "stream",
          "text": [
            "11 683\n"
          ]
        }
      ],
      "source": [
        "print(len(df_final['review_title'][77]),len(df_final['review_comment'][8]),)"
      ]
    },
    {
      "cell_type": "code",
      "execution_count": 14,
      "metadata": {
        "colab": {
          "base_uri": "https://localhost:8080/"
        },
        "id": "egui2Zfpbtlh",
        "outputId": "640ef3b9-6187-4cd0-b3f0-c33bf1ebc0b2"
      },
      "outputs": [
        {
          "name": "stderr",
          "output_type": "stream",
          "text": [
            "[nltk_data] Downloading package stopwords to\n",
            "[nltk_data]     C:\\Users\\DELL\\AppData\\Roaming\\nltk_data...\n",
            "[nltk_data]   Package stopwords is already up-to-date!\n",
            "[nltk_data] Downloading package wordnet to\n",
            "[nltk_data]     C:\\Users\\DELL\\AppData\\Roaming\\nltk_data...\n",
            "[nltk_data]   Package wordnet is already up-to-date!\n",
            "[nltk_data] Downloading package punkt to\n",
            "[nltk_data]     C:\\Users\\DELL\\AppData\\Roaming\\nltk_data...\n",
            "[nltk_data]   Package punkt is already up-to-date!\n"
          ]
        }
      ],
      "source": [
        "import nltk\n",
        "nltk.download('stopwords')\n",
        "from nltk.stem import PorterStemmer\n",
        "from nltk.corpus import stopwords\n",
        "nltk.download('wordnet')\n",
        "from nltk.stem import WordNetLemmatizer\n",
        "nltk.download('punkt')\n",
        "import re\n",
        "\n",
        "stemmer = PorterStemmer()\n",
        "clean_title=[]\n",
        "for i in range (len(df_final)):\n",
        "  doc = re.sub('[^A-Za-z0-9]', ' ', df_final['review_title'][i])\n",
        "  doc = doc.lower()\n",
        "  doc = doc.split()\n",
        "  doc =[stemmer.stem(word) for word in doc if word not in stopwords.words('english') ]\n",
        "  doc = ' '.join(doc)\n",
        "  clean_title.append(doc)\n",
        "\n",
        "\n",
        "clean_comment=[]\n",
        "for i in range (len(df_final)):\n",
        "  doc = re.sub('[^A-Za-z0-9]', ' ', df_final['review_comment'][i])\n",
        "  doc = doc.lower()\n",
        "  doc = doc.split()\n",
        "  doc =[stemmer.stem(word) for word in doc if word not in stopwords.words('english') ]\n",
        "  doc = ' '.join(doc)\n",
        "  clean_comment.append(doc)"
      ]
    },
    {
      "cell_type": "code",
      "execution_count": 15,
      "metadata": {
        "colab": {
          "base_uri": "https://localhost:8080/"
        },
        "id": "MFmtwhQxdjlo",
        "outputId": "c47ef4c2-d8e1-4246-e439-3bf46345ee63"
      },
      "outputs": [
        {
          "data": {
            "text/plain": [
              "['updat back updat journey iphon 11 let tell quit rollercoast initi bought one daughter differ seller put mildli bit disast issu left right face id work phone overh name return feel bit skeptic whole refurbish scene plot twist decid give anoth go time purchas amazon resel store specif shop call hybrid oh boy differ iphon receiv time around noth short impecc arriv essenti charger charg cabl even sim card tool neatli pack phone could fool brand new experi realli hammer home lesson come refurbish good crucial qualiti condit product vari wildli depend seller hybrid sent excel product exceed expect everi way wari dive world refurbish electron let testament right seller get hand devic feel brand new without hefti price tag moon iphon 11 sure keep post anyth chang seem like struck gold recent found need quick replac daughter accident broke phone appl iphon 11 64gb black seem like promis choic primarili need someth could set swiftli would perform seamlessli backup box iphon 11 felt like brand new devic despit model releas year back sleek black finish familiar design immedi caught eye reassur choic would disappoint set iphon 11 mostli straightforward especi unlock version make easi switch old devic transfer data set previou iphon seamless thank appl ecosystem howev hit slight snag face id setup took bit longer expect get work properli despit hiccup configur face id work flawlessli iphon 11 perform impress touch screen respons make navig type breez wi fi connect fast ensur brows app download effici although latest model handl everyday task eas stream video content game without notic lag main issu encount initi difficulti set face id requir attempt configur minor inconveni otherwis smooth setup process overcom challeng phone work perfectli overal refurbish appl iphon 11 proven reliabl effici backup phone eas setup fast wi fi respons touch screen make feel like new devic hiccup face id setup small obstacl overcom detract overal posit experi would recommend iphon 11 anyon need quick replac depend backup devic',\n",
              " 'market smartphon seamlessli marri cut edg technolog sleek design look appl iphon 11 devot appl enthusiast recent upgrad model must say exceed alreadi high expect let start design iphon 11 boast stun 6 1 inch liquid retina hd display truli bring everyth life vibrant photo immers game experi build qualiti impecc robust aerospac grade aluminum glass construct feel premium hand matt finish back look sophist also minim fingerprint practic touch perform wise iphon 11 powerhous a13 bionic chip ensur lightn fast respons whether multitask app edit video go play graphic intens game phone handl effortlessli plu io get smoothest intuit user experi smartphon world updat time ecosystem seamlessli integr appl devic part ecosystem let talk camera setup standout featur iphon 11 dual camera system 12mp ultra wide wide camera captur stun photo impress detail color accuraci night mode game changer allow take beauti illumin shot even low light condit abil shoot 4k video 60fp extend dynam rang showcas iphon 11 imag prowess batteri life anoth pleasant surpris iphon 11 easili last full day heavi use thank optim hardwar softwar fast charg support mean quickli top need incred conveni connect iphon 11 unlock give flexibl switch carrier without hassl support 4g lte latest wi fi standard ensur stabl speedi connect wherev go term valu iphon 11 hit sweet spot offer flagship level perform featur without premium price tag pro model 64gb storag variant provid ampl space app photo video alway opt higher capac need conclus appl iphon 11 triumph design perform valu whether appl aficionado simpli look top tier smartphon experi devic deliv front reliabl versatil beauti craft true testament appl commit innov wholeheartedli recommend iphon 11 anyon seek depend featur rich mobil companion',\n",
              " 'know experi phone like amazon son purchas phone alway good experi unsur purchas iphon work like charm think one small scratch care especi cover case 24 7 notic unless u realli look charg pretti fast also depend good charger camera qualiti much better xr happi normal purchas appl product appl care like offer time decid go without like screen break like 250 protect appl appl price would like 99 keep mind u fix broken screen lead phone work stuck buy whole new one bummer recent wonki internet issu phone froze time noth cri simpli turn back phone fix problem make sure phone date softwar keep work order take photo phone well anoth phone lol tri post one futur get one']"
            ]
          },
          "execution_count": 15,
          "metadata": {},
          "output_type": "execute_result"
        }
      ],
      "source": [
        "clean_comment[:3]"
      ]
    },
    {
      "cell_type": "code",
      "execution_count": 16,
      "metadata": {
        "colab": {
          "base_uri": "https://localhost:8080/"
        },
        "id": "MMJRJbAnJHv4",
        "outputId": "292c06bf-8480-4771-ad37-8954400ee36c"
      },
      "outputs": [
        {
          "name": "stdout",
          "output_type": "stream",
          "text": [
            "Requirement already satisfied: tensorflow in c:\\users\\dell\\appdata\\local\\programs\\python\\python312\\lib\\site-packages (2.16.1)\n",
            "Requirement already satisfied: tensorflow-intel==2.16.1 in c:\\users\\dell\\appdata\\local\\programs\\python\\python312\\lib\\site-packages (from tensorflow) (2.16.1)\n",
            "Requirement already satisfied: absl-py>=1.0.0 in c:\\users\\dell\\appdata\\local\\programs\\python\\python312\\lib\\site-packages (from tensorflow-intel==2.16.1->tensorflow) (2.1.0)\n",
            "Requirement already satisfied: astunparse>=1.6.0 in c:\\users\\dell\\appdata\\local\\programs\\python\\python312\\lib\\site-packages (from tensorflow-intel==2.16.1->tensorflow) (1.6.3)\n",
            "Requirement already satisfied: flatbuffers>=23.5.26 in c:\\users\\dell\\appdata\\local\\programs\\python\\python312\\lib\\site-packages (from tensorflow-intel==2.16.1->tensorflow) (24.3.25)\n",
            "Requirement already satisfied: gast!=0.5.0,!=0.5.1,!=0.5.2,>=0.2.1 in c:\\users\\dell\\appdata\\local\\programs\\python\\python312\\lib\\site-packages (from tensorflow-intel==2.16.1->tensorflow) (0.5.4)\n",
            "Requirement already satisfied: google-pasta>=0.1.1 in c:\\users\\dell\\appdata\\local\\programs\\python\\python312\\lib\\site-packages (from tensorflow-intel==2.16.1->tensorflow) (0.2.0)\n",
            "Requirement already satisfied: h5py>=3.10.0 in c:\\users\\dell\\appdata\\local\\programs\\python\\python312\\lib\\site-packages (from tensorflow-intel==2.16.1->tensorflow) (3.11.0)\n",
            "Requirement already satisfied: libclang>=13.0.0 in c:\\users\\dell\\appdata\\local\\programs\\python\\python312\\lib\\site-packages (from tensorflow-intel==2.16.1->tensorflow) (18.1.1)\n",
            "Requirement already satisfied: ml-dtypes~=0.3.1 in c:\\users\\dell\\appdata\\local\\programs\\python\\python312\\lib\\site-packages (from tensorflow-intel==2.16.1->tensorflow) (0.3.2)\n",
            "Requirement already satisfied: opt-einsum>=2.3.2 in c:\\users\\dell\\appdata\\local\\programs\\python\\python312\\lib\\site-packages (from tensorflow-intel==2.16.1->tensorflow) (3.3.0)\n",
            "Requirement already satisfied: packaging in c:\\users\\dell\\appdata\\local\\programs\\python\\python312\\lib\\site-packages (from tensorflow-intel==2.16.1->tensorflow) (23.2)\n",
            "Requirement already satisfied: protobuf!=4.21.0,!=4.21.1,!=4.21.2,!=4.21.3,!=4.21.4,!=4.21.5,<5.0.0dev,>=3.20.3 in c:\\users\\dell\\appdata\\local\\programs\\python\\python312\\lib\\site-packages (from tensorflow-intel==2.16.1->tensorflow) (4.25.3)\n",
            "Requirement already satisfied: requests<3,>=2.21.0 in c:\\users\\dell\\appdata\\local\\programs\\python\\python312\\lib\\site-packages (from tensorflow-intel==2.16.1->tensorflow) (2.31.0)\n",
            "Requirement already satisfied: setuptools in c:\\users\\dell\\appdata\\local\\programs\\python\\python312\\lib\\site-packages (from tensorflow-intel==2.16.1->tensorflow) (69.5.1)\n",
            "Requirement already satisfied: six>=1.12.0 in c:\\users\\dell\\appdata\\local\\programs\\python\\python312\\lib\\site-packages (from tensorflow-intel==2.16.1->tensorflow) (1.16.0)\n",
            "Requirement already satisfied: termcolor>=1.1.0 in c:\\users\\dell\\appdata\\local\\programs\\python\\python312\\lib\\site-packages (from tensorflow-intel==2.16.1->tensorflow) (2.4.0)\n",
            "Requirement already satisfied: typing-extensions>=3.6.6 in c:\\users\\dell\\appdata\\local\\programs\\python\\python312\\lib\\site-packages (from tensorflow-intel==2.16.1->tensorflow) (4.11.0)\n",
            "Requirement already satisfied: wrapt>=1.11.0 in c:\\users\\dell\\appdata\\local\\programs\\python\\python312\\lib\\site-packages (from tensorflow-intel==2.16.1->tensorflow) (1.16.0)\n",
            "Requirement already satisfied: grpcio<2.0,>=1.24.3 in c:\\users\\dell\\appdata\\local\\programs\\python\\python312\\lib\\site-packages (from tensorflow-intel==2.16.1->tensorflow) (1.64.0)\n",
            "Requirement already satisfied: tensorboard<2.17,>=2.16 in c:\\users\\dell\\appdata\\local\\programs\\python\\python312\\lib\\site-packages (from tensorflow-intel==2.16.1->tensorflow) (2.16.2)\n",
            "Requirement already satisfied: keras>=3.0.0 in c:\\users\\dell\\appdata\\local\\programs\\python\\python312\\lib\\site-packages (from tensorflow-intel==2.16.1->tensorflow) (3.3.3)\n",
            "Requirement already satisfied: numpy<2.0.0,>=1.26.0 in c:\\users\\dell\\appdata\\local\\programs\\python\\python312\\lib\\site-packages (from tensorflow-intel==2.16.1->tensorflow) (1.26.4)\n",
            "Requirement already satisfied: wheel<1.0,>=0.23.0 in c:\\users\\dell\\appdata\\local\\programs\\python\\python312\\lib\\site-packages (from astunparse>=1.6.0->tensorflow-intel==2.16.1->tensorflow) (0.43.0)\n",
            "Requirement already satisfied: rich in c:\\users\\dell\\appdata\\local\\programs\\python\\python312\\lib\\site-packages (from keras>=3.0.0->tensorflow-intel==2.16.1->tensorflow) (13.7.1)\n",
            "Requirement already satisfied: namex in c:\\users\\dell\\appdata\\local\\programs\\python\\python312\\lib\\site-packages (from keras>=3.0.0->tensorflow-intel==2.16.1->tensorflow) (0.0.8)\n",
            "Requirement already satisfied: optree in c:\\users\\dell\\appdata\\local\\programs\\python\\python312\\lib\\site-packages (from keras>=3.0.0->tensorflow-intel==2.16.1->tensorflow) (0.11.0)\n",
            "Requirement already satisfied: charset-normalizer<4,>=2 in c:\\users\\dell\\appdata\\local\\programs\\python\\python312\\lib\\site-packages (from requests<3,>=2.21.0->tensorflow-intel==2.16.1->tensorflow) (3.3.2)\n",
            "Requirement already satisfied: idna<4,>=2.5 in c:\\users\\dell\\appdata\\local\\programs\\python\\python312\\lib\\site-packages (from requests<3,>=2.21.0->tensorflow-intel==2.16.1->tensorflow) (3.7)\n",
            "Requirement already satisfied: urllib3<3,>=1.21.1 in c:\\users\\dell\\appdata\\local\\programs\\python\\python312\\lib\\site-packages (from requests<3,>=2.21.0->tensorflow-intel==2.16.1->tensorflow) (2.2.1)\n",
            "Requirement already satisfied: certifi>=2017.4.17 in c:\\users\\dell\\appdata\\local\\programs\\python\\python312\\lib\\site-packages (from requests<3,>=2.21.0->tensorflow-intel==2.16.1->tensorflow) (2024.2.2)\n",
            "Requirement already satisfied: markdown>=2.6.8 in c:\\users\\dell\\appdata\\local\\programs\\python\\python312\\lib\\site-packages (from tensorboard<2.17,>=2.16->tensorflow-intel==2.16.1->tensorflow) (3.6)\n",
            "Requirement already satisfied: tensorboard-data-server<0.8.0,>=0.7.0 in c:\\users\\dell\\appdata\\local\\programs\\python\\python312\\lib\\site-packages (from tensorboard<2.17,>=2.16->tensorflow-intel==2.16.1->tensorflow) (0.7.2)\n",
            "Requirement already satisfied: werkzeug>=1.0.1 in c:\\users\\dell\\appdata\\local\\programs\\python\\python312\\lib\\site-packages (from tensorboard<2.17,>=2.16->tensorflow-intel==2.16.1->tensorflow) (3.0.3)\n",
            "Requirement already satisfied: MarkupSafe>=2.1.1 in c:\\users\\dell\\appdata\\local\\programs\\python\\python312\\lib\\site-packages (from werkzeug>=1.0.1->tensorboard<2.17,>=2.16->tensorflow-intel==2.16.1->tensorflow) (2.1.5)\n",
            "Requirement already satisfied: markdown-it-py>=2.2.0 in c:\\users\\dell\\appdata\\local\\programs\\python\\python312\\lib\\site-packages (from rich->keras>=3.0.0->tensorflow-intel==2.16.1->tensorflow) (3.0.0)\n",
            "Requirement already satisfied: pygments<3.0.0,>=2.13.0 in c:\\users\\dell\\appdata\\local\\programs\\python\\python312\\lib\\site-packages (from rich->keras>=3.0.0->tensorflow-intel==2.16.1->tensorflow) (2.18.0)\n",
            "Requirement already satisfied: mdurl~=0.1 in c:\\users\\dell\\appdata\\local\\programs\\python\\python312\\lib\\site-packages (from markdown-it-py>=2.2.0->rich->keras>=3.0.0->tensorflow-intel==2.16.1->tensorflow) (0.1.2)\n"
          ]
        }
      ],
      "source": [
        "!pip install tensorflow"
      ]
    },
    {
      "cell_type": "code",
      "execution_count": 17,
      "metadata": {
        "colab": {
          "base_uri": "https://localhost:8080/"
        },
        "id": "LdSWzJKgdrjG",
        "outputId": "c0cc1b90-4111-4b5b-f767-716657b451b0"
      },
      "outputs": [
        {
          "name": "stderr",
          "output_type": "stream",
          "text": [
            "C:\\Users\\DELL\\AppData\\Local\\Temp\\ipykernel_432\\3507845498.py:1: SettingWithCopyWarning: \n",
            "A value is trying to be set on a copy of a slice from a DataFrame.\n",
            "Try using .loc[row_indexer,col_indexer] = value instead\n",
            "\n",
            "See the caveats in the documentation: https://pandas.pydata.org/pandas-docs/stable/user_guide/indexing.html#returning-a-view-versus-a-copy\n",
            "  df_final['review_comment'] = clean_comment\n",
            "C:\\Users\\DELL\\AppData\\Local\\Temp\\ipykernel_432\\3507845498.py:2: SettingWithCopyWarning: \n",
            "A value is trying to be set on a copy of a slice from a DataFrame.\n",
            "Try using .loc[row_indexer,col_indexer] = value instead\n",
            "\n",
            "See the caveats in the documentation: https://pandas.pydata.org/pandas-docs/stable/user_guide/indexing.html#returning-a-view-versus-a-copy\n",
            "  df_final['review_title'] = clean_title\n"
          ]
        }
      ],
      "source": [
        "df_final['review_comment'] = clean_comment\n",
        "df_final['review_title'] = clean_title"
      ]
    },
    {
      "cell_type": "code",
      "execution_count": 18,
      "metadata": {
        "colab": {
          "base_uri": "https://localhost:8080/",
          "height": 206
        },
        "id": "P2duXS1pd95a",
        "outputId": "df3d04ac-402f-442d-d36e-06947be29e92"
      },
      "outputs": [
        {
          "data": {
            "text/html": [
              "<div>\n",
              "<style scoped>\n",
              "    .dataframe tbody tr th:only-of-type {\n",
              "        vertical-align: middle;\n",
              "    }\n",
              "\n",
              "    .dataframe tbody tr th {\n",
              "        vertical-align: top;\n",
              "    }\n",
              "\n",
              "    .dataframe thead th {\n",
              "        text-align: right;\n",
              "    }\n",
              "</style>\n",
              "<table border=\"1\" class=\"dataframe\">\n",
              "  <thead>\n",
              "    <tr style=\"text-align: right;\">\n",
              "      <th></th>\n",
              "      <th>review_title</th>\n",
              "      <th>review_comment</th>\n",
              "      <th>review_star_rating</th>\n",
              "    </tr>\n",
              "  </thead>\n",
              "  <tbody>\n",
              "    <tr>\n",
              "      <th>0</th>\n",
              "      <td>appl iphon 11 review reliabl backup feel like new</td>\n",
              "      <td>updat back updat journey iphon 11 let tell qui...</td>\n",
              "      <td>5</td>\n",
              "    </tr>\n",
              "    <tr>\n",
              "      <th>1</th>\n",
              "      <td>aop3d stellar companion appl iphon 11 unlock 6...</td>\n",
              "      <td>market smartphon seamlessli marri cut edg tech...</td>\n",
              "      <td>5</td>\n",
              "    </tr>\n",
              "    <tr>\n",
              "      <th>2</th>\n",
              "      <td>iphon 11 pretti great</td>\n",
              "      <td>know experi phone like amazon son purchas phon...</td>\n",
              "      <td>5</td>\n",
              "    </tr>\n",
              "    <tr>\n",
              "      <th>3</th>\n",
              "      <td>phone great ship setup frustrat</td>\n",
              "      <td>renew iphon 11 great condit batteri health 91 ...</td>\n",
              "      <td>4</td>\n",
              "    </tr>\n",
              "    <tr>\n",
              "      <th>4</th>\n",
              "      <td>great phone</td>\n",
              "      <td>got well packag iphon mail everyth work great ...</td>\n",
              "      <td>5</td>\n",
              "    </tr>\n",
              "  </tbody>\n",
              "</table>\n",
              "</div>"
            ],
            "text/plain": [
              "                                        review_title  \\\n",
              "0  appl iphon 11 review reliabl backup feel like new   \n",
              "1  aop3d stellar companion appl iphon 11 unlock 6...   \n",
              "2                              iphon 11 pretti great   \n",
              "3                    phone great ship setup frustrat   \n",
              "4                                        great phone   \n",
              "\n",
              "                                      review_comment review_star_rating  \n",
              "0  updat back updat journey iphon 11 let tell qui...                  5  \n",
              "1  market smartphon seamlessli marri cut edg tech...                  5  \n",
              "2  know experi phone like amazon son purchas phon...                  5  \n",
              "3  renew iphon 11 great condit batteri health 91 ...                  4  \n",
              "4  got well packag iphon mail everyth work great ...                  5  "
            ]
          },
          "execution_count": 18,
          "metadata": {},
          "output_type": "execute_result"
        }
      ],
      "source": [
        "df_final.head()"
      ]
    },
    {
      "cell_type": "code",
      "execution_count": 20,
      "metadata": {
        "colab": {
          "base_uri": "https://localhost:8080/"
        },
        "id": "sxMYT8aNVyjH",
        "outputId": "d49d18df-3c99-47e4-ed63-429298166c76"
      },
      "outputs": [
        {
          "name": "stderr",
          "output_type": "stream",
          "text": [
            "c:\\Users\\DELL\\AppData\\Local\\Programs\\Python\\Python312\\Lib\\site-packages\\keras\\src\\layers\\core\\embedding.py:90: UserWarning: Argument `input_length` is deprecated. Just remove it.\n",
            "  warnings.warn(\n"
          ]
        },
        {
          "name": "stdout",
          "output_type": "stream",
          "text": [
            "\u001b[1m4/4\u001b[0m \u001b[32m━━━━━━━━━━━━━━━━━━━━\u001b[0m\u001b[37m\u001b[0m \u001b[1m0s\u001b[0m 22ms/step\n"
          ]
        },
        {
          "data": {
            "text/plain": [
              "array([[[-2.7046859e-02,  1.8607769e-02,  3.9735325e-03, ...,\n",
              "          4.2520951e-02,  4.3246035e-02, -4.6783425e-02],\n",
              "        [-4.8998762e-02,  7.2877035e-03,  3.4588683e-02, ...,\n",
              "          4.1335259e-02, -2.5520718e-02,  4.0691506e-02],\n",
              "        [-3.7405193e-02,  4.7681514e-02, -3.4441233e-02, ...,\n",
              "         -1.9817464e-03, -2.9511500e-02,  2.7062744e-04],\n",
              "        ...,\n",
              "        [-3.0591501e-02, -1.0107290e-02, -2.1136224e-02, ...,\n",
              "          9.1025345e-03, -1.5988279e-02,  3.9706599e-02],\n",
              "        [-3.0591501e-02, -1.0107290e-02, -2.1136224e-02, ...,\n",
              "          9.1025345e-03, -1.5988279e-02,  3.9706599e-02],\n",
              "        [-3.0591501e-02, -1.0107290e-02, -2.1136224e-02, ...,\n",
              "          9.1025345e-03, -1.5988279e-02,  3.9706599e-02]],\n",
              "\n",
              "       [[ 3.1886403e-02,  3.1272318e-02,  2.8087806e-02, ...,\n",
              "          1.2729596e-02, -1.3047218e-02,  2.2916820e-02],\n",
              "        [-3.1269573e-02, -2.5256455e-02, -3.7092447e-02, ...,\n",
              "          2.8796565e-02, -1.6999468e-03, -2.4755485e-03],\n",
              "        [-2.3871437e-03,  4.5117546e-02, -4.5997847e-02, ...,\n",
              "          9.7242109e-03, -2.0572340e-02, -3.1692781e-02],\n",
              "        ...,\n",
              "        [-3.0591501e-02, -1.0107290e-02, -2.1136224e-02, ...,\n",
              "          9.1025345e-03, -1.5988279e-02,  3.9706599e-02],\n",
              "        [-3.0591501e-02, -1.0107290e-02, -2.1136224e-02, ...,\n",
              "          9.1025345e-03, -1.5988279e-02,  3.9706599e-02],\n",
              "        [-3.0591501e-02, -1.0107290e-02, -2.1136224e-02, ...,\n",
              "          9.1025345e-03, -1.5988279e-02,  3.9706599e-02]],\n",
              "\n",
              "       [[-4.8998762e-02,  7.2877035e-03,  3.4588683e-02, ...,\n",
              "          4.1335259e-02, -2.5520718e-02,  4.0691506e-02],\n",
              "        [-3.7405193e-02,  4.7681514e-02, -3.4441233e-02, ...,\n",
              "         -1.9817464e-03, -2.9511500e-02,  2.7062744e-04],\n",
              "        [-3.4834146e-02,  4.7054578e-02,  3.0821834e-02, ...,\n",
              "         -2.1265734e-02, -4.6910867e-03,  1.4454391e-02],\n",
              "        ...,\n",
              "        [-3.0591501e-02, -1.0107290e-02, -2.1136224e-02, ...,\n",
              "          9.1025345e-03, -1.5988279e-02,  3.9706599e-02],\n",
              "        [-3.0591501e-02, -1.0107290e-02, -2.1136224e-02, ...,\n",
              "          9.1025345e-03, -1.5988279e-02,  3.9706599e-02],\n",
              "        [-3.0591501e-02, -1.0107290e-02, -2.1136224e-02, ...,\n",
              "          9.1025345e-03, -1.5988279e-02,  3.9706599e-02]],\n",
              "\n",
              "       ...,\n",
              "\n",
              "       [[ 1.3964009e-02, -3.1757616e-02,  3.0892242e-02, ...,\n",
              "         -2.7981043e-02,  4.2322960e-02,  7.7176839e-05],\n",
              "        [ 4.2857639e-03,  5.9613474e-03,  2.4791513e-02, ...,\n",
              "          4.0848043e-02, -2.5254417e-02, -3.7029136e-02],\n",
              "        [-3.0591501e-02, -1.0107290e-02, -2.1136224e-02, ...,\n",
              "          9.1025345e-03, -1.5988279e-02,  3.9706599e-02],\n",
              "        ...,\n",
              "        [-3.0591501e-02, -1.0107290e-02, -2.1136224e-02, ...,\n",
              "          9.1025345e-03, -1.5988279e-02,  3.9706599e-02],\n",
              "        [-3.0591501e-02, -1.0107290e-02, -2.1136224e-02, ...,\n",
              "          9.1025345e-03, -1.5988279e-02,  3.9706599e-02],\n",
              "        [-3.0591501e-02, -1.0107290e-02, -2.1136224e-02, ...,\n",
              "          9.1025345e-03, -1.5988279e-02,  3.9706599e-02]],\n",
              "\n",
              "       [[-2.7046859e-02,  1.8607769e-02,  3.9735325e-03, ...,\n",
              "          4.2520951e-02,  4.3246035e-02, -4.6783425e-02],\n",
              "        [ 4.8510324e-02,  3.1157736e-02,  3.5019744e-02, ...,\n",
              "          2.7285483e-02, -1.9692887e-02, -4.2670917e-02],\n",
              "        [-3.0591501e-02, -1.0107290e-02, -2.1136224e-02, ...,\n",
              "          9.1025345e-03, -1.5988279e-02,  3.9706599e-02],\n",
              "        ...,\n",
              "        [-3.0591501e-02, -1.0107290e-02, -2.1136224e-02, ...,\n",
              "          9.1025345e-03, -1.5988279e-02,  3.9706599e-02],\n",
              "        [-3.0591501e-02, -1.0107290e-02, -2.1136224e-02, ...,\n",
              "          9.1025345e-03, -1.5988279e-02,  3.9706599e-02],\n",
              "        [-3.0591501e-02, -1.0107290e-02, -2.1136224e-02, ...,\n",
              "          9.1025345e-03, -1.5988279e-02,  3.9706599e-02]],\n",
              "\n",
              "       [[-4.7227837e-02,  2.6121367e-02,  2.4190437e-02, ...,\n",
              "          9.8564029e-03,  3.6131825e-02,  1.1823546e-02],\n",
              "        [-4.8998762e-02,  7.2877035e-03,  3.4588683e-02, ...,\n",
              "          4.1335259e-02, -2.5520718e-02,  4.0691506e-02],\n",
              "        [-3.7405193e-02,  4.7681514e-02, -3.4441233e-02, ...,\n",
              "         -1.9817464e-03, -2.9511500e-02,  2.7062744e-04],\n",
              "        ...,\n",
              "        [-3.0591501e-02, -1.0107290e-02, -2.1136224e-02, ...,\n",
              "          9.1025345e-03, -1.5988279e-02,  3.9706599e-02],\n",
              "        [-3.0591501e-02, -1.0107290e-02, -2.1136224e-02, ...,\n",
              "          9.1025345e-03, -1.5988279e-02,  3.9706599e-02],\n",
              "        [-3.0591501e-02, -1.0107290e-02, -2.1136224e-02, ...,\n",
              "          9.1025345e-03, -1.5988279e-02,  3.9706599e-02]]], dtype=float32)"
            ]
          },
          "execution_count": 20,
          "metadata": {},
          "output_type": "execute_result"
        }
      ],
      "source": [
        "import tensorflow as tf\n",
        "from tensorflow.keras.preprocessing.text import one_hot\n",
        "from tensorflow.keras.layers import Embedding\n",
        "from tensorflow.keras.preprocessing.sequence import pad_sequences\n",
        "from tensorflow.keras.models import Sequential\n",
        "import pandas as pd\n",
        "import numpy as np\n",
        "\n",
        "# One-hot encode review title and comment\n",
        "title_voc_size = 30\n",
        "comment_voc_size = 1000\n",
        "title_length = 30\n",
        "comment_length = 1000\n",
        "\n",
        "ohe_title = [one_hot(sent, title_voc_size) for sent in df_final['review_title']]\n",
        "ohe_comment = [one_hot(sent, comment_voc_size) for sent in df_final['review_comment']]\n",
        "\n",
        "# Pad sequences\n",
        "embed_title = pad_sequences(ohe_title, padding='post', maxlen=title_length)\n",
        "embed_comment = pad_sequences(ohe_comment, padding='post', maxlen=comment_length)\n",
        "\n",
        "# Concatenate title and comment sequences\n",
        "X = np.concatenate((embed_title, embed_comment), axis=1)\n",
        "\n",
        "# Define model\n",
        "dim = 450\n",
        "model = Sequential()\n",
        "model.add(Embedding(title_voc_size + comment_voc_size, dim, input_length=title_length + comment_length))\n",
        "model.compile('adam', 'mse')\n",
        "\n",
        "# Predict\n",
        "model.predict(X)\n"
      ]
    },
    {
      "cell_type": "code",
      "execution_count": 22,
      "metadata": {
        "colab": {
          "base_uri": "https://localhost:8080/"
        },
        "id": "8meyCS-6bU4k",
        "outputId": "4efc3403-da79-443e-a251-84ae0a4c789b"
      },
      "outputs": [
        {
          "name": "stderr",
          "output_type": "stream",
          "text": [
            "C:\\Users\\DELL\\AppData\\Local\\Temp\\ipykernel_432\\1066278901.py:12: SettingWithCopyWarning: \n",
            "A value is trying to be set on a copy of a slice from a DataFrame.\n",
            "Try using .loc[row_indexer,col_indexer] = value instead\n",
            "\n",
            "See the caveats in the documentation: https://pandas.pydata.org/pandas-docs/stable/user_guide/indexing.html#returning-a-view-versus-a-copy\n",
            "  df_final['review_title'] = df_final['review_title'].astype(str)\n",
            "C:\\Users\\DELL\\AppData\\Local\\Temp\\ipykernel_432\\1066278901.py:13: SettingWithCopyWarning: \n",
            "A value is trying to be set on a copy of a slice from a DataFrame.\n",
            "Try using .loc[row_indexer,col_indexer] = value instead\n",
            "\n",
            "See the caveats in the documentation: https://pandas.pydata.org/pandas-docs/stable/user_guide/indexing.html#returning-a-view-versus-a-copy\n",
            "  df_final['review_comment'] = df_final['review_comment'].astype(str)\n"
          ]
        }
      ],
      "source": [
        "import numpy as np\n",
        "import pandas as pd\n",
        "import tensorflow as tf\n",
        "from tensorflow.keras.preprocessing.text import one_hot\n",
        "from tensorflow.keras.layers import Embedding\n",
        "from tensorflow.keras.preprocessing.sequence import pad_sequences\n",
        "from tensorflow.keras.models import Sequential\n",
        "from sklearn.model_selection import train_test_split\n",
        "\n",
        "\n",
        "# Convert data to strings\n",
        "df_final['review_title'] = df_final['review_title'].astype(str)\n",
        "df_final['review_comment'] = df_final['review_comment'].astype(str)\n",
        "\n",
        "# One-hot encode review title and comment\n",
        "title_voc_size = 30\n",
        "comment_voc_size = 1000\n",
        "title_length = 30\n",
        "comment_length = 1000\n",
        "\n",
        "ohe_title = [one_hot(sent, title_voc_size) for sent in df_final['review_title']]\n",
        "ohe_comment = [one_hot(sent, comment_voc_size) for sent in df_final['review_comment']]\n",
        "\n",
        "# Pad sequences\n",
        "embed_title = pad_sequences(ohe_title, padding='post', maxlen=title_length)\n",
        "embed_comment = pad_sequences(ohe_comment, padding='post', maxlen=comment_length)\n",
        "\n",
        "# Concatenate title and comment sequences\n",
        "X = np.concatenate((embed_title, embed_comment), axis=1)\n",
        "\n",
        "# Define target variable\n",
        "y = df_final['review_star_rating']\n",
        "\n",
        "# Split data into train and test sets\n",
        "xtrain, xtest, ytrain, ytest = train_test_split(X, y, test_size=0.2, random_state=42)\n",
        "\n",
        "\n"
      ]
    },
    {
      "cell_type": "code",
      "execution_count": 23,
      "metadata": {
        "colab": {
          "base_uri": "https://localhost:8080/"
        },
        "id": "bxxixYA-fBUn",
        "outputId": "1cba6fc5-638c-4198-b211-599e79957fe5"
      },
      "outputs": [
        {
          "name": "stdout",
          "output_type": "stream",
          "text": [
            "Data type of y_train: object\n"
          ]
        }
      ],
      "source": [
        "print(\"Data type of y_train:\", ytrain.dtype)\n",
        "# If the data type is not numeric, convert it to a numeric type\n",
        "if not np.issubdtype(ytrain.dtype, np.number):\n",
        "    ytrain = ytrain.astype(float)\n"
      ]
    },
    {
      "cell_type": "code",
      "execution_count": 24,
      "metadata": {
        "id": "rlaE309ufNj1"
      },
      "outputs": [],
      "source": [
        "ytrain = ytrain.astype(float)\n"
      ]
    },
    {
      "cell_type": "code",
      "execution_count": 25,
      "metadata": {
        "colab": {
          "base_uri": "https://localhost:8080/"
        },
        "id": "DRsjKP0gfZPo",
        "outputId": "8d8fc382-6ead-4b3d-95f4-cb6f11e62a67"
      },
      "outputs": [
        {
          "name": "stdout",
          "output_type": "stream",
          "text": [
            "(80, 1030) (20, 1030) (80,) (20,)\n"
          ]
        }
      ],
      "source": [
        "print(xtrain.shape,xtest.shape,ytrain.shape,ytest.shape)"
      ]
    },
    {
      "cell_type": "code",
      "execution_count": 38,
      "metadata": {
        "colab": {
          "base_uri": "https://localhost:8080/"
        },
        "id": "txR8XeP5e-wK",
        "outputId": "6dd80c34-b1d6-464c-f0cc-ccfc159aead0"
      },
      "outputs": [
        {
          "name": "stdout",
          "output_type": "stream",
          "text": [
            "Epoch 1/27\n"
          ]
        },
        {
          "name": "stderr",
          "output_type": "stream",
          "text": [
            "c:\\Users\\DELL\\AppData\\Local\\Programs\\Python\\Python312\\Lib\\site-packages\\keras\\src\\layers\\core\\embedding.py:90: UserWarning: Argument `input_length` is deprecated. Just remove it.\n",
            "  warnings.warn(\n"
          ]
        },
        {
          "name": "stdout",
          "output_type": "stream",
          "text": [
            "\u001b[1m7/7\u001b[0m \u001b[32m━━━━━━━━━━━━━━━━━━━━\u001b[0m\u001b[37m\u001b[0m \u001b[1m1s\u001b[0m 66ms/step - loss: 10.3532\n",
            "Epoch 2/27\n",
            "\u001b[1m7/7\u001b[0m \u001b[32m━━━━━━━━━━━━━━━━━━━━\u001b[0m\u001b[37m\u001b[0m \u001b[1m1s\u001b[0m 84ms/step - loss: 2.9650\n",
            "Epoch 3/27\n",
            "\u001b[1m7/7\u001b[0m \u001b[32m━━━━━━━━━━━━━━━━━━━━\u001b[0m\u001b[37m\u001b[0m \u001b[1m1s\u001b[0m 85ms/step - loss: 1.8865\n",
            "Epoch 4/27\n",
            "\u001b[1m7/7\u001b[0m \u001b[32m━━━━━━━━━━━━━━━━━━━━\u001b[0m\u001b[37m\u001b[0m \u001b[1m1s\u001b[0m 84ms/step - loss: 1.3816\n",
            "Epoch 5/27\n",
            "\u001b[1m7/7\u001b[0m \u001b[32m━━━━━━━━━━━━━━━━━━━━\u001b[0m\u001b[37m\u001b[0m \u001b[1m1s\u001b[0m 95ms/step - loss: 0.9903\n",
            "Epoch 6/27\n",
            "\u001b[1m7/7\u001b[0m \u001b[32m━━━━━━━━━━━━━━━━━━━━\u001b[0m\u001b[37m\u001b[0m \u001b[1m1s\u001b[0m 72ms/step - loss: 0.7065\n",
            "Epoch 7/27\n",
            "\u001b[1m7/7\u001b[0m \u001b[32m━━━━━━━━━━━━━━━━━━━━\u001b[0m\u001b[37m\u001b[0m \u001b[1m1s\u001b[0m 69ms/step - loss: 0.5762\n",
            "Epoch 8/27\n",
            "\u001b[1m7/7\u001b[0m \u001b[32m━━━━━━━━━━━━━━━━━━━━\u001b[0m\u001b[37m\u001b[0m \u001b[1m1s\u001b[0m 74ms/step - loss: 0.5792\n",
            "Epoch 9/27\n",
            "\u001b[1m7/7\u001b[0m \u001b[32m━━━━━━━━━━━━━━━━━━━━\u001b[0m\u001b[37m\u001b[0m \u001b[1m1s\u001b[0m 84ms/step - loss: 0.5982\n",
            "Epoch 10/27\n",
            "\u001b[1m7/7\u001b[0m \u001b[32m━━━━━━━━━━━━━━━━━━━━\u001b[0m\u001b[37m\u001b[0m \u001b[1m1s\u001b[0m 90ms/step - loss: 0.5357\n",
            "Epoch 11/27\n",
            "\u001b[1m7/7\u001b[0m \u001b[32m━━━━━━━━━━━━━━━━━━━━\u001b[0m\u001b[37m\u001b[0m \u001b[1m1s\u001b[0m 74ms/step - loss: 0.5319\n",
            "Epoch 12/27\n",
            "\u001b[1m7/7\u001b[0m \u001b[32m━━━━━━━━━━━━━━━━━━━━\u001b[0m\u001b[37m\u001b[0m \u001b[1m1s\u001b[0m 73ms/step - loss: 0.5726\n",
            "Epoch 13/27\n",
            "\u001b[1m7/7\u001b[0m \u001b[32m━━━━━━━━━━━━━━━━━━━━\u001b[0m\u001b[37m\u001b[0m \u001b[1m1s\u001b[0m 70ms/step - loss: 0.4850\n",
            "Epoch 14/27\n",
            "\u001b[1m7/7\u001b[0m \u001b[32m━━━━━━━━━━━━━━━━━━━━\u001b[0m\u001b[37m\u001b[0m \u001b[1m1s\u001b[0m 68ms/step - loss: 0.5270\n",
            "Epoch 15/27\n",
            "\u001b[1m7/7\u001b[0m \u001b[32m━━━━━━━━━━━━━━━━━━━━\u001b[0m\u001b[37m\u001b[0m \u001b[1m1s\u001b[0m 77ms/step - loss: 0.4570\n",
            "Epoch 16/27\n",
            "\u001b[1m7/7\u001b[0m \u001b[32m━━━━━━━━━━━━━━━━━━━━\u001b[0m\u001b[37m\u001b[0m \u001b[1m1s\u001b[0m 83ms/step - loss: 0.4087\n",
            "Epoch 17/27\n",
            "\u001b[1m7/7\u001b[0m \u001b[32m━━━━━━━━━━━━━━━━━━━━\u001b[0m\u001b[37m\u001b[0m \u001b[1m1s\u001b[0m 70ms/step - loss: 0.4912\n",
            "Epoch 18/27\n",
            "\u001b[1m7/7\u001b[0m \u001b[32m━━━━━━━━━━━━━━━━━━━━\u001b[0m\u001b[37m\u001b[0m \u001b[1m1s\u001b[0m 82ms/step - loss: 0.5209\n",
            "Epoch 19/27\n",
            "\u001b[1m7/7\u001b[0m \u001b[32m━━━━━━━━━━━━━━━━━━━━\u001b[0m\u001b[37m\u001b[0m \u001b[1m1s\u001b[0m 72ms/step - loss: 0.5026\n",
            "Epoch 20/27\n",
            "\u001b[1m7/7\u001b[0m \u001b[32m━━━━━━━━━━━━━━━━━━━━\u001b[0m\u001b[37m\u001b[0m \u001b[1m1s\u001b[0m 78ms/step - loss: 0.4400\n",
            "Epoch 21/27\n",
            "\u001b[1m7/7\u001b[0m \u001b[32m━━━━━━━━━━━━━━━━━━━━\u001b[0m\u001b[37m\u001b[0m \u001b[1m1s\u001b[0m 80ms/step - loss: 0.3988\n",
            "Epoch 22/27\n",
            "\u001b[1m7/7\u001b[0m \u001b[32m━━━━━━━━━━━━━━━━━━━━\u001b[0m\u001b[37m\u001b[0m \u001b[1m1s\u001b[0m 86ms/step - loss: 0.3776\n",
            "Epoch 23/27\n",
            "\u001b[1m7/7\u001b[0m \u001b[32m━━━━━━━━━━━━━━━━━━━━\u001b[0m\u001b[37m\u001b[0m \u001b[1m1s\u001b[0m 73ms/step - loss: 0.4330\n",
            "Epoch 24/27\n",
            "\u001b[1m7/7\u001b[0m \u001b[32m━━━━━━━━━━━━━━━━━━━━\u001b[0m\u001b[37m\u001b[0m \u001b[1m1s\u001b[0m 71ms/step - loss: 0.4691\n",
            "Epoch 25/27\n",
            "\u001b[1m7/7\u001b[0m \u001b[32m━━━━━━━━━━━━━━━━━━━━\u001b[0m\u001b[37m\u001b[0m \u001b[1m1s\u001b[0m 73ms/step - loss: 0.3615\n",
            "Epoch 26/27\n",
            "\u001b[1m7/7\u001b[0m \u001b[32m━━━━━━━━━━━━━━━━━━━━\u001b[0m\u001b[37m\u001b[0m \u001b[1m1s\u001b[0m 76ms/step - loss: 0.4460\n",
            "Epoch 27/27\n",
            "\u001b[1m7/7\u001b[0m \u001b[32m━━━━━━━━━━━━━━━━━━━━\u001b[0m\u001b[37m\u001b[0m \u001b[1m1s\u001b[0m 81ms/step - loss: 0.4276\n",
            "\u001b[1m1/1\u001b[0m \u001b[32m━━━━━━━━━━━━━━━━━━━━\u001b[0m\u001b[37m\u001b[0m \u001b[1m0s\u001b[0m 115ms/step - loss: 0.4586\n",
            "Test Loss: 0.45860210061073303\n",
            "\u001b[1m1/1\u001b[0m \u001b[32m━━━━━━━━━━━━━━━━━━━━\u001b[0m\u001b[37m\u001b[0m \u001b[1m0s\u001b[0m 71ms/step\n"
          ]
        }
      ],
      "source": [
        "import numpy as np\n",
        "from tensorflow.keras.preprocessing.text import Tokenizer\n",
        "from tensorflow.keras.preprocessing.sequence import pad_sequences\n",
        "from tensorflow.keras.models import Sequential\n",
        "from tensorflow.keras.layers import Embedding, Dense\n",
        "\n",
        "# Convert ytrain and ytest to float\n",
        "ytrain = ytrain.astype(float)\n",
        "ytest = ytest.astype(float)\n",
        "\n",
        "\n",
        "# Define model\n",
        "dim = 1030\n",
        "model = Sequential()\n",
        "model.add(Embedding(title_voc_size + comment_voc_size, dim, input_length=title_length + comment_length))\n",
        "# Adding a Dense layer with one unit for regression\n",
        "model.add(Dense(units=1))\n",
        "model.compile(optimizer='adam', loss='mse')\n",
        "\n",
        "# Train the model\n",
        "model.fit(xtrain, ytrain, epochs=27, batch_size=12)\n",
        "\n",
        "# Evaluate the model\n",
        "loss = model.evaluate(xtest, ytest)\n",
        "print(\"Test Loss:\", loss)\n",
        "\n",
        "# Predict on test set\n",
        "predictions = model.predict(xtest)\n"
      ]
    },
    {
      "cell_type": "markdown",
      "metadata": {
        "id": "Tv8t_L16l0Zx"
      },
      "source": [
        "# **New Data Point Prediction**"
      ]
    },
    {
      "cell_type": "code",
      "execution_count": 55,
      "metadata": {
        "id": "oEIegdNBkBgu"
      },
      "outputs": [],
      "source": [
        "import numpy as np\n",
        "\n",
        "# Assuming the new data point is given as two lists: new_title and new_comment\n",
        "new_title = \"Cooling Poor\"  # Replace with actual title string\n",
        "new_comment = \"We bought it this month. Installed by Your referred technician. Just started using it. Find the cooling poor and taking long time. Grateful if it is checked up. Thanks\"  # Replace with actual comment string\n",
        "\n"
      ]
    },
    {
      "cell_type": "code",
      "execution_count": 56,
      "metadata": {
        "id": "zlTMBM3_kK8o"
      },
      "outputs": [],
      "source": [
        "stemmer = PorterStemmer()\n",
        "clean_title=[]\n",
        "doc = re.sub('[^A-Za-z0-9]', ' ', new_title)\n",
        "doc = doc.lower()\n",
        "doc = doc.split()\n",
        "doc =[stemmer.stem(word) for word in doc if word not in stopwords.words('english') ]\n",
        "doc = ' '.join(doc)\n",
        "clean_title.append(doc)\n",
        "\n",
        "\n",
        "clean_comment=[]\n",
        "doc = re.sub('[^A-Za-z0-9]', ' ',new_comment)\n",
        "doc = doc.lower()\n",
        "doc = doc.split()\n",
        "doc =[stemmer.stem(word) for word in doc if word not in stopwords.words('english') ]\n",
        "doc = ' '.join(doc)\n",
        "clean_comment.append(doc)"
      ]
    },
    {
      "cell_type": "code",
      "execution_count": 57,
      "metadata": {},
      "outputs": [
        {
          "data": {
            "text/plain": [
              "['bought month instal refer technician start use find cool poor take long time grate check thank']"
            ]
          },
          "execution_count": 57,
          "metadata": {},
          "output_type": "execute_result"
        }
      ],
      "source": [
        "clean_comment"
      ]
    },
    {
      "cell_type": "code",
      "execution_count": 58,
      "metadata": {
        "id": "O3I32caDkzBU"
      },
      "outputs": [],
      "source": [
        "# Convert data to strings\n",
        "new_title = clean_title\n",
        "new_comment = clean_comment\n",
        "\n",
        "# One-hot encode review title and comment\n",
        "title_voc_size = 30\n",
        "comment_voc_size = 1000\n",
        "title_length = 30\n",
        "comment_length = 1000\n",
        "\n",
        "ohe_title = [one_hot(sent, title_voc_size) for sent in new_title]\n",
        "ohe_comment = [one_hot(sent, comment_voc_size) for sent in new_comment]\n",
        "\n",
        "# Pad sequences\n",
        "embed_title = pad_sequences(ohe_title, padding='post', maxlen=title_length)\n",
        "embed_comment = pad_sequences(ohe_comment, padding='post', maxlen=comment_length)\n",
        "\n",
        "# Concatenate title and comment sequences\n",
        "data_point = np.concatenate((embed_title, embed_comment), axis=1)\n"
      ]
    },
    {
      "cell_type": "code",
      "execution_count": 59,
      "metadata": {
        "colab": {
          "base_uri": "https://localhost:8080/"
        },
        "id": "tgxb1wbaldhG",
        "outputId": "0993e282-4466-426e-8181-69741ec93284"
      },
      "outputs": [
        {
          "name": "stdout",
          "output_type": "stream",
          "text": [
            "\u001b[1m1/1\u001b[0m \u001b[32m━━━━━━━━━━━━━━━━━━━━\u001b[0m\u001b[37m\u001b[0m \u001b[1m0s\u001b[0m 13ms/step\n",
            "Prediction for the new data point: [4.49241]\n"
          ]
        }
      ],
      "source": [
        "new_prediction = model.predict(data_point)\n",
        "print(\"Prediction for the new data point:\", new_prediction[0, 0])"
      ]
    },
    {
      "cell_type": "markdown",
      "metadata": {
        "id": "FaR4Br6nl5wP"
      },
      "source": [
        "# **Pickling**"
      ]
    },
    {
      "cell_type": "code",
      "execution_count": 45,
      "metadata": {
        "id": "wIGWo6qemCWg"
      },
      "outputs": [
        {
          "name": "stdout",
          "output_type": "stream",
          "text": [
            "\u001b[1m1/1\u001b[0m \u001b[32m━━━━━━━━━━━━━━━━━━━━\u001b[0m\u001b[37m\u001b[0m \u001b[1m0s\u001b[0m 69ms/step\n",
            "Prediction for the new data point: 4.224782\n"
          ]
        }
      ],
      "source": [
        "import pickle\n",
        "\n",
        "# Load the pickled model\n",
        "pickled_model = pickle.load(open('Rating.pkl', 'rb'))\n",
        "\n",
        "# Make predictions using the loaded model\n",
        "new_prediction = pickled_model.predict(data_point)\n",
        "\n",
        "# Access the first element of the prediction array\n",
        "output_prediction = new_prediction[0, 0, 0]\n",
        "\n",
        "print(\"Prediction for the new data point:\", output_prediction)\n"
      ]
    },
    {
      "cell_type": "code",
      "execution_count": null,
      "metadata": {},
      "outputs": [],
      "source": []
    }
  ],
  "metadata": {
    "accelerator": "GPU",
    "colab": {
      "gpuType": "T4",
      "provenance": []
    },
    "kernelspec": {
      "display_name": "Python 3",
      "name": "python3"
    },
    "language_info": {
      "codemirror_mode": {
        "name": "ipython",
        "version": 3
      },
      "file_extension": ".py",
      "mimetype": "text/x-python",
      "name": "python",
      "nbconvert_exporter": "python",
      "pygments_lexer": "ipython3",
      "version": "3.12.3"
    }
  },
  "nbformat": 4,
  "nbformat_minor": 0
}
